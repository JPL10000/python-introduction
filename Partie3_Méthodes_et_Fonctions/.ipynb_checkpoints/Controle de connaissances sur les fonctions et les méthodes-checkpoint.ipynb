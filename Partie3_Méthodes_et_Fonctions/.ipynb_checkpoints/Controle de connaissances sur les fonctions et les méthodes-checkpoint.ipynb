{
 "cells": [
  {
   "cell_type": "markdown",
   "metadata": {},
   "source": [
    "# Controle de connaissances sur les fonctions et les méthodes\n",
    "\n",
    "Répondez aux questions suivantes :\n",
    "____\n",
    "**Ecrire une fonction qui renvoie le volume d'une sphère en fonction de son rayon**"
   ]
  },
  {
   "cell_type": "code",
   "execution_count": 45,
   "metadata": {},
   "outputs": [
    {
     "data": {
      "text/plain": [
       "4.1887902047863905"
      ]
     },
     "execution_count": 45,
     "metadata": {},
     "output_type": "execute_result"
    }
   ],
   "source": [
    "import math\n",
    "\n",
    "def vol(rayon):\n",
    "    pass\n",
    "    return (4/3)*math.pi*rayon**3\n",
    "\n",
    "vol(1)"
   ]
  },
  {
   "cell_type": "markdown",
   "metadata": {},
   "source": [
    "**Ecrire une fonction qui vérifie qu'un nombre est situé dans un intervalle donné (bornes incluses)**"
   ]
  },
  {
   "cell_type": "code",
   "execution_count": 7,
   "metadata": {},
   "outputs": [
    {
     "data": {
      "text/plain": [
       "True"
      ]
     },
     "execution_count": 7,
     "metadata": {},
     "output_type": "execute_result"
    }
   ],
   "source": [
    "def verif_intervalle(num,bas,haut):\n",
    "    pass\n",
    "    if num >= bas and num <= haut :\n",
    "        return True\n",
    "    return False\n",
    "\n",
    "verif_intervalle(2, 1, 89)"
   ]
  },
  {
   "cell_type": "code",
   "execution_count": 48,
   "metadata": {},
   "outputs": [
    {
     "data": {
      "text/plain": [
       "False"
      ]
     },
     "execution_count": 48,
     "metadata": {},
     "output_type": "execute_result"
    }
   ],
   "source": [
    "def verif_intervalle(num,bas,haut):\n",
    "    pass\n",
    "    return num in range(bas, haut+1) \n",
    "\n",
    "verif_intervalle(90, 1, 89)"
   ]
  },
  {
   "cell_type": "markdown",
   "metadata": {},
   "source": [
    "Réponse sous forme d'un booléen :"
   ]
  },
  {
   "cell_type": "code",
   "execution_count": 8,
   "metadata": {},
   "outputs": [],
   "source": [
    "def bool_intervalle(num,bas,haut):\n",
    "    pass\n",
    "    if num >= bas and num <= haut :\n",
    "        return True\n",
    "    return False"
   ]
  },
  {
   "cell_type": "code",
   "execution_count": 9,
   "metadata": {},
   "outputs": [
    {
     "data": {
      "text/plain": [
       "True"
      ]
     },
     "execution_count": 9,
     "metadata": {},
     "output_type": "execute_result"
    }
   ],
   "source": [
    "bool_intervalle(3,1,10)"
   ]
  },
  {
   "cell_type": "markdown",
   "metadata": {},
   "source": [
    "____\n",
    "** Écrivez une fonction Python qui calcule le nombre de lettres majuscules et minuscules dans une chaine. **\n",
    "\n",
    "    Exemple de chaine : \"Bonjour Mr Martin, comment allez vous en cette belle journée de mardi ?\"\n",
    "    Réponse souhaitée :\n",
    "    Nombre de majuscules : 3\n",
    "    Nombre de minuscules : 54\n",
    "    \n",
    "Si vous vous sentez en forme, vous pouvez allez voir ce qu'il y a dans le module Collections pour résoudre ce problème !"
   ]
  },
  {
   "cell_type": "code",
   "execution_count": 50,
   "metadata": {},
   "outputs": [
    {
     "name": "stdout",
     "output_type": "stream",
     "text": [
      "Nombre de majuscules :  3\n",
      "Nombre de minuscules :  54\n"
     ]
    }
   ],
   "source": [
    "def maj_min(s):\n",
    "\n",
    "    d = {\"maj\": 0, \"min\": 0}\n",
    "    \n",
    "    for c in s :\n",
    "        if c.isupper() : \n",
    "            d[\"maj\"] +=1\n",
    "        elif c.islower() :\n",
    "            d[\"min\"] += 1\n",
    "        else :\n",
    "            pass\n",
    "    \n",
    "    print (\"Nombre de majuscules : \", d[\"maj\"])\n",
    "    print (\"Nombre de minuscules : \", d[\"min\"])\n",
    "    \n",
    "maj_min(\"Bonjour Mr Martin, comment allez vous en cette belle journée de mardi ?\")"
   ]
  },
  {
   "cell_type": "markdown",
   "metadata": {},
   "source": [
    "____\n",
    "**Ecrire une fonction Python qui prend une liste en entrée et retourne une nouvelle liste avec les éléments uniques de la première liste.**\n",
    "\n",
    "    Exemple de liste : [1,1,1,1,2,2,3,3,3,3,4,5]\n",
    "    Liste unique : [1, 2, 3, 4, 5]"
   ]
  },
  {
   "cell_type": "code",
   "execution_count": 24,
   "metadata": {},
   "outputs": [],
   "source": [
    "def liste_unique(l):\n",
    "    pass\n",
    "    s = set(l)\n",
    "    return s"
   ]
  },
  {
   "cell_type": "code",
   "execution_count": 52,
   "metadata": {},
   "outputs": [],
   "source": [
    "def liste_unique(l):\n",
    "    x = []\n",
    "    for a in l :\n",
    "        if a not in x:\n",
    "            x.append(a)\n",
    "    return x"
   ]
  },
  {
   "cell_type": "code",
   "execution_count": 53,
   "metadata": {},
   "outputs": [
    {
     "data": {
      "text/plain": [
       "[1, 2, 3, 4, 5]"
      ]
     },
     "execution_count": 53,
     "metadata": {},
     "output_type": "execute_result"
    }
   ],
   "source": [
    "liste_unique([1,1,1,1,2,2,3,3,3,3,4,5])"
   ]
  },
  {
   "cell_type": "markdown",
   "metadata": {},
   "source": [
    "____\n",
    "**Ecrire une fonction Python qui multiplie tous les nombres de la liste.**\n",
    "\n",
    "    Exemple de liste : [1, 2, 3, -4]\n",
    "    Sortie attendue : -24"
   ]
  },
  {
   "cell_type": "code",
   "execution_count": 54,
   "metadata": {},
   "outputs": [],
   "source": [
    "def multiplie(liste):  \n",
    "    \n",
    "    m = 1\n",
    "    for n in liste :\n",
    "        m *= n\n",
    "    return m\n",
    "        "
   ]
  },
  {
   "cell_type": "code",
   "execution_count": 55,
   "metadata": {},
   "outputs": [
    {
     "data": {
      "text/plain": [
       "-24"
      ]
     },
     "execution_count": 55,
     "metadata": {},
     "output_type": "execute_result"
    }
   ],
   "source": [
    "multiplie([1,2,3,-4])"
   ]
  },
  {
   "cell_type": "markdown",
   "metadata": {},
   "source": [
    "____\n",
    "**Ecrire une fonction Python qui vérifie si une chaîne passée est un palindrome.**\n",
    "\n",
    "Note: Un palindrome est un mot, une phrase ou une séquence qui se lit vers l'arrière et vers l'avant, par exemple, kayak ou rêver."
   ]
  },
  {
   "cell_type": "code",
   "execution_count": 60,
   "metadata": {},
   "outputs": [],
   "source": [
    "def palindrome(s):\n",
    "    s = s.replace(' ', '')\n",
    "    return s == s[::-1]\n",
    "    "
   ]
  },
  {
   "cell_type": "code",
   "execution_count": 63,
   "metadata": {},
   "outputs": [
    {
     "data": {
      "text/plain": [
       "True"
      ]
     },
     "execution_count": 63,
     "metadata": {},
     "output_type": "execute_result"
    }
   ],
   "source": [
    "palindrome('kayak')"
   ]
  },
  {
   "cell_type": "markdown",
   "metadata": {},
   "source": [
    "____\n",
    "**Difficile**:\n",
    "\n",
    "Ecrire une fonction Python pour vérifier si une chaîne est un pangramme.\n",
    "\n",
    "    Note : Un pangramme est une phrase contenant chaque lettre de l'alphabet au moins une fois.\n",
    "    Par exemple : \"Buvez de ce whisky que le patron juge fameux\"\n",
    "\n",
    "Indice : Regardez le module String"
   ]
  },
  {
   "cell_type": "code",
   "execution_count": 40,
   "metadata": {},
   "outputs": [],
   "source": [
    "import string\n",
    "\n",
    "def est_un_pangramme(str1, alphabet=string.ascii_lowercase):  \n",
    "    \n",
    "    # on passe str1 en minuscule\n",
    "    str1 = str1.lower()\n",
    "    # on définit une réponse True par défaut\n",
    "    reponse = True\n",
    "    \n",
    "    # on boucle sur l'alphabet \n",
    "    for lettre_alphabet in alphabet :\n",
    "        \n",
    "        #on regarde pour chaque lettre si elle est présente dans str1\n",
    "        # par défaut on considère que la lettre n'est pas dans str1\n",
    "        recherche = False\n",
    "        for lettre_str1 in str1 :\n",
    "            if lettre_str1 == lettre_alphabet :\n",
    "                recherche = True\n",
    "        \n",
    "        if recherche == False :\n",
    "            reponse = False\n",
    "    \n",
    "    return reponse"
   ]
  },
  {
   "cell_type": "code",
   "execution_count": 69,
   "metadata": {},
   "outputs": [],
   "source": [
    "import string\n",
    "\n",
    "def est_un_pangramme(str1, alphabet=string.ascii_lowercase): \n",
    "    alphaset = set(alphabet) # on sépare alphabet en ses éléments\n",
    "    return alphaset <= set(str1.lower())\n",
    "    "
   ]
  },
  {
   "cell_type": "code",
   "execution_count": 72,
   "metadata": {},
   "outputs": [
    {
     "data": {
      "text/plain": [
       "True"
      ]
     },
     "execution_count": 72,
     "metadata": {},
     "output_type": "execute_result"
    }
   ],
   "source": [
    "est_un_pangramme(\"Buvez de ce whisky que le patron juge fameux\")"
   ]
  },
  {
   "cell_type": "code",
   "execution_count": 64,
   "metadata": {},
   "outputs": [
    {
     "data": {
      "text/plain": [
       "'abcdefghijklmnopqrstuvwxyz'"
      ]
     },
     "execution_count": 64,
     "metadata": {},
     "output_type": "execute_result"
    }
   ],
   "source": [
    "string.ascii_lowercase"
   ]
  },
  {
   "cell_type": "markdown",
   "metadata": {
    "collapsed": true
   },
   "source": [
    "#### **Bravo !**"
   ]
  },
  {
   "cell_type": "code",
   "execution_count": null,
   "metadata": {
    "collapsed": true
   },
   "outputs": [],
   "source": []
  }
 ],
 "metadata": {
  "anaconda-cloud": {},
  "kernelspec": {
   "display_name": "Python 3",
   "language": "python",
   "name": "python3"
  },
  "language_info": {
   "codemirror_mode": {
    "name": "ipython",
    "version": 3
   },
   "file_extension": ".py",
   "mimetype": "text/x-python",
   "name": "python",
   "nbconvert_exporter": "python",
   "pygments_lexer": "ipython3",
   "version": "3.6.4"
  }
 },
 "nbformat": 4,
 "nbformat_minor": 1
}
