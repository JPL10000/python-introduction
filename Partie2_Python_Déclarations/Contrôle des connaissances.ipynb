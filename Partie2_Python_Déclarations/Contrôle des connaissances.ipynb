{
 "cells": [
  {
   "cell_type": "markdown",
   "metadata": {
    "collapsed": true
   },
   "source": [
    "# Contrôle des connaissances\n",
    "\n",
    "Voyons un peu ce que vous avez appris !"
   ]
  },
  {
   "cell_type": "markdown",
   "metadata": {},
   "source": [
    "_____\n",
    "**Utilisez les instructions for, split(), et if pour créer un code qui va n'afficher que les mots qui commencent par 'c' dans cette phrase :**"
   ]
  },
  {
   "cell_type": "code",
   "execution_count": 7,
   "metadata": {},
   "outputs": [],
   "source": [
    "st = \"Cet exercice consiste à afficher uniquement les mots commencent par la lettre c\""
   ]
  },
  {
   "cell_type": "code",
   "execution_count": 40,
   "metadata": {},
   "outputs": [
    {
     "name": "stdout",
     "output_type": "stream",
     "text": [
      "Création\n",
      "cinq\n",
      "chaque\n",
      "cette\n",
      "chaine\n",
      "caractères\n"
     ]
    }
   ],
   "source": [
    "# Votre code\n",
    "\n",
    "for mot in st.split():\n",
    "    if mot[0].lower() == 'c' :\n",
    "        print (mot)"
   ]
  },
  {
   "cell_type": "markdown",
   "metadata": {},
   "source": [
    "______\n",
    "**Utilisez range() pour afficher les nombres pairs de 0 à 10.**"
   ]
  },
  {
   "cell_type": "code",
   "execution_count": 21,
   "metadata": {},
   "outputs": [
    {
     "name": "stdout",
     "output_type": "stream",
     "text": [
      "0\n",
      "2\n",
      "4\n",
      "6\n",
      "8\n",
      "10\n"
     ]
    }
   ],
   "source": [
    "# Votre code\n",
    "for num in range(0, 11) :\n",
    "    if num %2 == 0 :\n",
    "        print(num)"
   ]
  },
  {
   "cell_type": "markdown",
   "metadata": {},
   "source": [
    "___\n",
    "**Utilisez la compréhension de liste pour créer la liste des nombres divisibles par 3 compris entre 1 et 50.**"
   ]
  },
  {
   "cell_type": "code",
   "execution_count": 22,
   "metadata": {},
   "outputs": [
    {
     "data": {
      "text/plain": [
       "[0, 3, 6, 9, 12, 15, 18, 21, 24, 27, 30, 33, 36, 39, 42, 45, 48]"
      ]
     },
     "execution_count": 22,
     "metadata": {},
     "output_type": "execute_result"
    }
   ],
   "source": [
    "# Votre code\n",
    "[num for num in range(0,50) if num%3 == 0]"
   ]
  },
  {
   "cell_type": "markdown",
   "metadata": {},
   "source": [
    "_____\n",
    "**Dans la chaine suivante, vérifiez le nombre de lettre de chaque mot et si celui-ci est pair, affichez le mot avec \"pair !\"**"
   ]
  },
  {
   "cell_type": "code",
   "execution_count": 34,
   "metadata": {},
   "outputs": [],
   "source": [
    "st = 'Affichez chaque mot de cette phrase dont le nombre de lettres est pair'"
   ]
  },
  {
   "cell_type": "code",
   "execution_count": 35,
   "metadata": {},
   "outputs": [
    {
     "name": "stdout",
     "output_type": "stream",
     "text": [
      "Affichez : pair !\n",
      "chaque : pair !\n",
      "de : pair !\n",
      "phrase : pair !\n",
      "dont : pair !\n",
      "le : pair !\n",
      "nombre : pair !\n",
      "de : pair !\n",
      "pair : pair !\n"
     ]
    }
   ],
   "source": [
    "# Votre code\n",
    "\n",
    "for mot in st.split() :\n",
    "    if len(mot) % 2 == 0 :\n",
    "        print(mot + \" : pair !\")\n"
   ]
  },
  {
   "cell_type": "markdown",
   "metadata": {},
   "source": [
    "**Écrire un programme qui affiche les nombres entiers de 1 à 100. Pour les multiples de trois afficher \"Fizz\" à la place du nombre et pour les multiples de cinq afficher \"Buzz\". Pour les nombres qui sont à la fois des multiples de trois et de cinq afficher \"FizzBuzz\". **"
   ]
  },
  {
   "cell_type": "code",
   "execution_count": 37,
   "metadata": {},
   "outputs": [
    {
     "name": "stdout",
     "output_type": "stream",
     "text": [
      "1\n",
      "2\n",
      "Fizz\n",
      "4\n",
      "Buzz\n",
      "Fizz\n",
      "7\n",
      "8\n",
      "Fizz\n",
      "Buzz\n",
      "11\n",
      "Fizz\n",
      "13\n",
      "14\n",
      "FizzBuzz\n",
      "16\n",
      "17\n",
      "Fizz\n",
      "19\n",
      "Buzz\n",
      "Fizz\n",
      "22\n",
      "23\n",
      "Fizz\n",
      "Buzz\n",
      "26\n",
      "Fizz\n",
      "28\n",
      "29\n",
      "FizzBuzz\n",
      "31\n",
      "32\n",
      "Fizz\n",
      "34\n",
      "Buzz\n",
      "Fizz\n",
      "37\n",
      "38\n",
      "Fizz\n",
      "Buzz\n",
      "41\n",
      "Fizz\n",
      "43\n",
      "44\n",
      "FizzBuzz\n",
      "46\n",
      "47\n",
      "Fizz\n",
      "49\n",
      "Buzz\n",
      "Fizz\n",
      "52\n",
      "53\n",
      "Fizz\n",
      "Buzz\n",
      "56\n",
      "Fizz\n",
      "58\n",
      "59\n",
      "FizzBuzz\n",
      "61\n",
      "62\n",
      "Fizz\n",
      "64\n",
      "Buzz\n",
      "Fizz\n",
      "67\n",
      "68\n",
      "Fizz\n",
      "Buzz\n",
      "71\n",
      "Fizz\n",
      "73\n",
      "74\n",
      "FizzBuzz\n",
      "76\n",
      "77\n",
      "Fizz\n",
      "79\n",
      "Buzz\n",
      "Fizz\n",
      "82\n",
      "83\n",
      "Fizz\n",
      "Buzz\n",
      "86\n",
      "Fizz\n",
      "88\n",
      "89\n",
      "FizzBuzz\n",
      "91\n",
      "92\n",
      "Fizz\n",
      "94\n",
      "Buzz\n",
      "Fizz\n",
      "97\n",
      "98\n",
      "Fizz\n"
     ]
    }
   ],
   "source": [
    "# Votre code\n",
    "for num in range(1, 100) :\n",
    "    if num % 3 == 0 and num % 5 == 0 :\n",
    "        print('FizzBuzz')\n",
    "    elif num % 3 == 0 :\n",
    "        print('Fizz')\n",
    "    elif num % 5 == 0 :\n",
    "        print('Buzz')\n",
    "    else :\n",
    "        print(num)\n",
    "\n"
   ]
  },
  {
   "cell_type": "markdown",
   "metadata": {},
   "source": [
    "____\n",
    "**Utilisez la compréhension de liste pour créer la liste des cinq premières lettres de chaque mot dans la chaine ci dessous :**"
   ]
  },
  {
   "cell_type": "code",
   "execution_count": 38,
   "metadata": {},
   "outputs": [],
   "source": [
    "st = \"Création d'une liste des cinq premières lettres de chaque mot de cette chaine de caractères\""
   ]
  },
  {
   "cell_type": "code",
   "execution_count": 39,
   "metadata": {},
   "outputs": [
    {
     "data": {
      "text/plain": [
       "['Créat',\n",
       " \"d'une\",\n",
       " 'liste',\n",
       " 'des',\n",
       " 'cinq',\n",
       " 'premi',\n",
       " 'lettr',\n",
       " 'de',\n",
       " 'chaqu',\n",
       " 'mot',\n",
       " 'de',\n",
       " 'cette',\n",
       " 'chain',\n",
       " 'de',\n",
       " 'carac']"
      ]
     },
     "execution_count": 39,
     "metadata": {},
     "output_type": "execute_result"
    }
   ],
   "source": [
    "# Votre code\n",
    "liste = [carac5[:5] for carac5 in st.split()]\n",
    "liste"
   ]
  },
  {
   "cell_type": "markdown",
   "metadata": {},
   "source": [
    "### Bravo !"
   ]
  },
  {
   "cell_type": "code",
   "execution_count": null,
   "metadata": {
    "collapsed": true
   },
   "outputs": [],
   "source": []
  }
 ],
 "metadata": {
  "anaconda-cloud": {},
  "kernelspec": {
   "display_name": "Python 3",
   "language": "python",
   "name": "python3"
  },
  "language_info": {
   "codemirror_mode": {
    "name": "ipython",
    "version": 3
   },
   "file_extension": ".py",
   "mimetype": "text/x-python",
   "name": "python",
   "nbconvert_exporter": "python",
   "pygments_lexer": "ipython3",
   "version": "3.6.4"
  }
 },
 "nbformat": 4,
 "nbformat_minor": 1
}
