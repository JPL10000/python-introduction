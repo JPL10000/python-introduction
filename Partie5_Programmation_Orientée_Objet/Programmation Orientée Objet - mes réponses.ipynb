{
 "cells": [
  {
   "cell_type": "markdown",
   "metadata": {},
   "source": [
    "# Programmation  Orientée Objet\n",
    "## Votre mission et contrôle de connaissances\n",
    "\n",
    "#### 1er problème\n",
    "\n",
    "Complétez les méthodes de la classe Ligne pour accepter en paramètre les coordonnées comme une paire de tuples et renvoyer la pente et la distance à la ligne."
   ]
  },
  {
   "cell_type": "code",
   "execution_count": 39,
   "metadata": {},
   "outputs": [],
   "source": [
    "class Ligne(object):\n",
    "    \n",
    "    def __init__(self,coor1,coor2):\n",
    "        self.coor1 = coor1\n",
    "        self.coor2 = coor2\n",
    "    \n",
    "    def distance(self):\n",
    "        x1,y1 = self.coor1\n",
    "        x2,y2 = self.coor2\n",
    "        print (( (y2-y1)**2 + (x2-x1)**2 )**0.5)\n",
    "    \n",
    "    def pente(self):\n",
    "        x1,y1 = self.coor1\n",
    "        x2,y2 = self.coor2\n",
    "        return (y2-y1)/(x2-x1)"
   ]
  },
  {
   "cell_type": "code",
   "execution_count": 40,
   "metadata": {},
   "outputs": [],
   "source": [
    "# EXEMPLE DE SORTIE\n",
    "\n",
    "coordonnées1 = (3,2)\n",
    "coordonnées2 = (8,10)\n",
    "\n",
    "li = Ligne(coordonnées1,coordonnées2)"
   ]
  },
  {
   "cell_type": "code",
   "execution_count": 41,
   "metadata": {},
   "outputs": [
    {
     "name": "stdout",
     "output_type": "stream",
     "text": [
      "9.433981132056603\n"
     ]
    }
   ],
   "source": [
    "li.distance()"
   ]
  },
  {
   "cell_type": "code",
   "execution_count": 42,
   "metadata": {},
   "outputs": [
    {
     "data": {
      "text/plain": [
       "1.6"
      ]
     },
     "execution_count": 42,
     "metadata": {},
     "output_type": "execute_result"
    }
   ],
   "source": [
    "li.pente()"
   ]
  },
  {
   "cell_type": "markdown",
   "metadata": {},
   "source": [
    "________\n",
    "#### 2ème problème"
   ]
  },
  {
   "cell_type": "markdown",
   "metadata": {},
   "source": [
    "Complétez la classe"
   ]
  },
  {
   "cell_type": "code",
   "execution_count": 54,
   "metadata": {},
   "outputs": [],
   "source": [
    "import math\n",
    "\n",
    "class Cylindre(object):\n",
    "    \n",
    "    def __init__(self,hauteur=1,rayon=1):\n",
    "        self.hauteur = hauteur\n",
    "        self.rayon = rayon\n",
    "        \n",
    "    def volume(self):\n",
    "        print (math.pi*self.rayon*self.rayon*self.hauteur)\n",
    "    \n",
    "    def surface(self):\n",
    "        print (2*math.pi*self.rayon*self.rayon + 2*math.pi*self.rayon*self.hauteur)"
   ]
  },
  {
   "cell_type": "code",
   "execution_count": 55,
   "metadata": {},
   "outputs": [],
   "source": [
    "# EXEMPLE DE SORTIE\n",
    "c = Cylindre(2,3)"
   ]
  },
  {
   "cell_type": "code",
   "execution_count": 56,
   "metadata": {},
   "outputs": [
    {
     "name": "stdout",
     "output_type": "stream",
     "text": [
      "56.548667764616276\n"
     ]
    }
   ],
   "source": [
    "c.volume()"
   ]
  },
  {
   "cell_type": "code",
   "execution_count": 57,
   "metadata": {},
   "outputs": [
    {
     "name": "stdout",
     "output_type": "stream",
     "text": [
      "94.24777960769379\n"
     ]
    }
   ],
   "source": [
    "c.surface()"
   ]
  },
  {
   "cell_type": "code",
   "execution_count": null,
   "metadata": {},
   "outputs": [],
   "source": []
  }
 ],
 "metadata": {
  "anaconda-cloud": {},
  "kernelspec": {
   "display_name": "Python 3",
   "language": "python",
   "name": "python3"
  },
  "language_info": {
   "codemirror_mode": {
    "name": "ipython",
    "version": 3
   },
   "file_extension": ".py",
   "mimetype": "text/x-python",
   "name": "python",
   "nbconvert_exporter": "python",
   "pygments_lexer": "ipython3",
   "version": "3.6.4"
  }
 },
 "nbformat": 4,
 "nbformat_minor": 1
}
