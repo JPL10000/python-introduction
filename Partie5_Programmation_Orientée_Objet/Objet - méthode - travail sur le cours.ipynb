{
 "cells": [
  {
   "cell_type": "code",
   "execution_count": 33,
   "metadata": {},
   "outputs": [],
   "source": [
    "import math \n",
    "\n",
    "class Cercle(object) :\n",
    "    '''\n",
    "    classe Cercle pour faire des calculs géométriques de base sur les cercles\n",
    "    '''\n",
    "    pi = math.pi\n",
    "    \n",
    "    def __init__(self, rayon=1):\n",
    "        self.rayon = rayon \n",
    "        \n",
    "    def surface(self):\n",
    "        return Cercle.pi * (self.rayon)**2\n",
    "    \n",
    "    def definirRayon(self, rayon) :\n",
    "        self.rayon = rayon\n",
    "    \n",
    "    def obtenirRayon(self) :\n",
    "        return self.rayon\n",
    "        \n",
    "    def perimetre(self) :\n",
    "        return Cercle.pi * 2 * self.rayon"
   ]
  },
  {
   "cell_type": "code",
   "execution_count": 34,
   "metadata": {},
   "outputs": [
    {
     "data": {
      "text/plain": [
       "6.283185307179586"
      ]
     },
     "execution_count": 34,
     "metadata": {},
     "output_type": "execute_result"
    }
   ],
   "source": [
    "c = Cercle(123)\n",
    "c.definirRayon(1)\n",
    "c.surface()\n",
    "c.perimetre()"
   ]
  },
  {
   "cell_type": "code",
   "execution_count": 30,
   "metadata": {},
   "outputs": [
    {
     "data": {
      "text/plain": [
       "12356"
      ]
     },
     "execution_count": 30,
     "metadata": {},
     "output_type": "execute_result"
    }
   ],
   "source": [
    "c.rayon"
   ]
  },
  {
   "cell_type": "code",
   "execution_count": 31,
   "metadata": {},
   "outputs": [
    {
     "data": {
      "text/plain": [
       "12356"
      ]
     },
     "execution_count": 31,
     "metadata": {},
     "output_type": "execute_result"
    }
   ],
   "source": [
    "c.obtenirRayon()"
   ]
  },
  {
   "cell_type": "code",
   "execution_count": null,
   "metadata": {},
   "outputs": [],
   "source": []
  }
 ],
 "metadata": {
  "kernelspec": {
   "display_name": "Python 3",
   "language": "python",
   "name": "python3"
  },
  "language_info": {
   "codemirror_mode": {
    "name": "ipython",
    "version": 3
   },
   "file_extension": ".py",
   "mimetype": "text/x-python",
   "name": "python",
   "nbconvert_exporter": "python",
   "pygments_lexer": "ipython3",
   "version": "3.6.4"
  }
 },
 "nbformat": 4,
 "nbformat_minor": 2
}
