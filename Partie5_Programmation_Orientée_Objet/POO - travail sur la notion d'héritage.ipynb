{
 "cells": [
  {
   "cell_type": "code",
   "execution_count": 5,
   "metadata": {},
   "outputs": [],
   "source": [
    "class Animal(object) :\n",
    "    '''\n",
    "    '''\n",
    "    def __init__(self) :\n",
    "        print(\"Animal créé\")\n",
    "    \n",
    "    def quiSuisJe(self) :\n",
    "        print(\"Je suis un animal\")\n",
    "        \n",
    "    def mange(self) :\n",
    "        print(\"Je suis en train de manger\")"
   ]
  },
  {
   "cell_type": "code",
   "execution_count": 6,
   "metadata": {},
   "outputs": [
    {
     "name": "stdout",
     "output_type": "stream",
     "text": [
      "Animal créé\n"
     ]
    }
   ],
   "source": [
    "chloe = Animal()"
   ]
  },
  {
   "cell_type": "code",
   "execution_count": 12,
   "metadata": {},
   "outputs": [],
   "source": [
    "class Chien(Animal) :\n",
    "    def __init__(self) :\n",
    "        Animal.__init__(self)\n",
    "        print(\"Chien créé\")\n",
    "    \n",
    "    def quiSuisJe(self) :\n",
    "        print(\"je suis un chien\")\n",
    "    \n",
    "    def aboie(self):\n",
    "        print(\"Waaf\")"
   ]
  },
  {
   "cell_type": "code",
   "execution_count": 13,
   "metadata": {},
   "outputs": [
    {
     "name": "stdout",
     "output_type": "stream",
     "text": [
      "Animal créé\n",
      "Chien créé\n"
     ]
    }
   ],
   "source": [
    "Coco = Chien()\n"
   ]
  },
  {
   "cell_type": "code",
   "execution_count": 9,
   "metadata": {},
   "outputs": [
    {
     "name": "stdout",
     "output_type": "stream",
     "text": [
      "Waaf\n"
     ]
    }
   ],
   "source": [
    "Coco.aboie()"
   ]
  },
  {
   "cell_type": "code",
   "execution_count": 10,
   "metadata": {},
   "outputs": [
    {
     "name": "stdout",
     "output_type": "stream",
     "text": [
      "je suis un chien\n"
     ]
    }
   ],
   "source": [
    "Coco.quiSuisJe()"
   ]
  },
  {
   "cell_type": "code",
   "execution_count": 11,
   "metadata": {},
   "outputs": [
    {
     "name": "stdout",
     "output_type": "stream",
     "text": [
      "Je suis en train de manger\n"
     ]
    }
   ],
   "source": [
    "Coco.mange()"
   ]
  },
  {
   "cell_type": "code",
   "execution_count": null,
   "metadata": {},
   "outputs": [],
   "source": []
  }
 ],
 "metadata": {
  "kernelspec": {
   "display_name": "Python 3",
   "language": "python",
   "name": "python3"
  },
  "language_info": {
   "codemirror_mode": {
    "name": "ipython",
    "version": 3
   },
   "file_extension": ".py",
   "mimetype": "text/x-python",
   "name": "python",
   "nbconvert_exporter": "python",
   "pygments_lexer": "ipython3",
   "version": "3.6.4"
  }
 },
 "nbformat": 4,
 "nbformat_minor": 2
}
