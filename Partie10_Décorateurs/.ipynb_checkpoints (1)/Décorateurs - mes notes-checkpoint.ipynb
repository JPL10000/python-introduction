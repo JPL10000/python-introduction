{
 "cells": [
  {
   "cell_type": "code",
   "execution_count": 3,
   "metadata": {},
   "outputs": [
    {
     "name": "stdout",
     "output_type": "stream",
     "text": [
      "Bonjour Corine\n"
     ]
    }
   ],
   "source": [
    "def bonjour(nom='Marc'):\n",
    "    print('Bonjour ' + nom)\n",
    "\n",
    "bonjour('Corine')"
   ]
  },
  {
   "cell_type": "code",
   "execution_count": 4,
   "metadata": {},
   "outputs": [
    {
     "name": "stdout",
     "output_type": "stream",
     "text": [
      "la fonction bonjour() est bien lancée\n",
      "\tCeci est la fonction salut()\n",
      "\tCeci est la fonction bienvenue()\n",
      "Maintenant c'est la fonction bonjour() de nouveau\n"
     ]
    }
   ],
   "source": [
    "def bonjour(nom='Marc'):\n",
    "    print('la fonction bonjour() est bien lancée')\n",
    "    \n",
    "    def salut(): \n",
    "        return \"\\tCeci est la fonction salut()\"\n",
    "        \n",
    "    def bienvenue():\n",
    "        return \"\\tCeci est la fonction bienvenue()\"\n",
    "    \n",
    "    print(salut())\n",
    "    print(bienvenue())\n",
    "    print(\"Maintenant c'est la fonction bonjour() de nouveau\")\n",
    "\n",
    "bonjour('Corine')"
   ]
  },
  {
   "cell_type": "code",
   "execution_count": 5,
   "metadata": {},
   "outputs": [
    {
     "ename": "NameError",
     "evalue": "name 'bienvenue' is not defined",
     "output_type": "error",
     "traceback": [
      "\u001b[0;31m---------------------------------------------------------------------------\u001b[0m",
      "\u001b[0;31mNameError\u001b[0m                                 Traceback (most recent call last)",
      "\u001b[0;32m<ipython-input-5-dbd64d65d4a3>\u001b[0m in \u001b[0;36m<module>\u001b[0;34m()\u001b[0m\n\u001b[0;32m----> 1\u001b[0;31m \u001b[0mbienvenue\u001b[0m\u001b[0;34m(\u001b[0m\u001b[0;34m)\u001b[0m\u001b[0;34m\u001b[0m\u001b[0m\n\u001b[0m",
      "\u001b[0;31mNameError\u001b[0m: name 'bienvenue' is not defined"
     ]
    }
   ],
   "source": [
    "bienvenue()"
   ]
  },
  {
   "cell_type": "code",
   "execution_count": 6,
   "metadata": {},
   "outputs": [
    {
     "name": "stdout",
     "output_type": "stream",
     "text": [
      "la fonction bonjour() est bien lancée\n"
     ]
    }
   ],
   "source": [
    "def bonjour(nom='Marc'):\n",
    "    print('la fonction bonjour() est bien lancée')\n",
    "    \n",
    "    def salut(): \n",
    "        return \"\\tCeci est la fonction salut()\"\n",
    "        \n",
    "    def bienvenue():\n",
    "        return \"\\tCeci est la fonction bienvenue()\"\n",
    "    \n",
    "    if nom == 'Corine' :\n",
    "        return salut\n",
    "    else :\n",
    "        return bienvenue\n",
    "    \n",
    "x = bonjour('Corine')\n"
   ]
  },
  {
   "cell_type": "code",
   "execution_count": 7,
   "metadata": {},
   "outputs": [
    {
     "data": {
      "text/plain": [
       "<function __main__.bonjour.<locals>.salut>"
      ]
     },
     "execution_count": 7,
     "metadata": {},
     "output_type": "execute_result"
    }
   ],
   "source": [
    "x"
   ]
  },
  {
   "cell_type": "code",
   "execution_count": 8,
   "metadata": {},
   "outputs": [
    {
     "name": "stdout",
     "output_type": "stream",
     "text": [
      "\tCeci est la fonction salut()\n"
     ]
    }
   ],
   "source": [
    "print(x())"
   ]
  },
  {
   "cell_type": "code",
   "execution_count": 9,
   "metadata": {},
   "outputs": [
    {
     "name": "stdout",
     "output_type": "stream",
     "text": [
      "la fonction bonjour() est bien lancée\n"
     ]
    }
   ],
   "source": [
    "y = bonjour()"
   ]
  },
  {
   "cell_type": "code",
   "execution_count": 10,
   "metadata": {},
   "outputs": [
    {
     "data": {
      "text/plain": [
       "<function __main__.bonjour.<locals>.bienvenue>"
      ]
     },
     "execution_count": 10,
     "metadata": {},
     "output_type": "execute_result"
    }
   ],
   "source": [
    "y"
   ]
  },
  {
   "cell_type": "code",
   "execution_count": 11,
   "metadata": {},
   "outputs": [
    {
     "name": "stdout",
     "output_type": "stream",
     "text": [
      "\tCeci est la fonction bienvenue()\n"
     ]
    }
   ],
   "source": [
    "print(y())"
   ]
  },
  {
   "cell_type": "code",
   "execution_count": 12,
   "metadata": {},
   "outputs": [
    {
     "name": "stdout",
     "output_type": "stream",
     "text": [
      "la fonction bonjour() est bien lancée\n"
     ]
    },
    {
     "data": {
      "text/plain": [
       "<function __main__.bonjour.<locals>.bienvenue>"
      ]
     },
     "execution_count": 12,
     "metadata": {},
     "output_type": "execute_result"
    }
   ],
   "source": [
    " bonjour()"
   ]
  },
  {
   "cell_type": "code",
   "execution_count": 13,
   "metadata": {},
   "outputs": [
    {
     "name": "stdout",
     "output_type": "stream",
     "text": [
      "la fonction bonjour() est bien lancée\n"
     ]
    },
    {
     "data": {
      "text/plain": [
       "'\\tCeci est la fonction bienvenue()'"
      ]
     },
     "execution_count": 13,
     "metadata": {},
     "output_type": "execute_result"
    }
   ],
   "source": [
    "bonjour()()"
   ]
  },
  {
   "cell_type": "code",
   "execution_count": 14,
   "metadata": {},
   "outputs": [
    {
     "name": "stdout",
     "output_type": "stream",
     "text": [
      "la fonction bonjour() est bien lancée\n"
     ]
    },
    {
     "data": {
      "text/plain": [
       "'\\tCeci est la fonction salut()'"
      ]
     },
     "execution_count": 14,
     "metadata": {},
     "output_type": "execute_result"
    }
   ],
   "source": [
    "bonjour('Corine')()"
   ]
  },
  {
   "cell_type": "code",
   "execution_count": 15,
   "metadata": {},
   "outputs": [],
   "source": [
    "# utiliser des fonctions comme arguments"
   ]
  },
  {
   "cell_type": "code",
   "execution_count": 19,
   "metadata": {},
   "outputs": [
    {
     "name": "stdout",
     "output_type": "stream",
     "text": [
      "Il y a du code ici\n",
      "Bonjour JP\n"
     ]
    }
   ],
   "source": [
    "def bonjour():\n",
    "    return \"Bonjour JP\"\n",
    "\n",
    "def autre(funct):\n",
    "    print(\"Il y a du code ici\")\n",
    "    print(funct())\n",
    "\n",
    "autre(bonjour)\n",
    "    "
   ]
  },
  {
   "cell_type": "code",
   "execution_count": 20,
   "metadata": {},
   "outputs": [
    {
     "name": "stdout",
     "output_type": "stream",
     "text": [
      "fonction qui a besoin d'un décorateur\n"
     ]
    }
   ],
   "source": [
    "def nouveau_decorateur(fonction):\n",
    "    \n",
    "    def entoure():\n",
    "        print(\"ici du code avant\")\n",
    "        fonction()\n",
    "        print(\"ici du code après\")\n",
    "        \n",
    "    return entoure\n",
    "\n",
    "def fonction_avec_decorateur():\n",
    "    print(\"fonction qui a besoin d'un décorateur\")\n",
    "\n",
    "fonction_avec_decorateur()"
   ]
  },
  {
   "cell_type": "code",
   "execution_count": 21,
   "metadata": {},
   "outputs": [],
   "source": [
    "fonction_avec_decorateur = nouveau_decorateur(fonction_avec_decorateur)"
   ]
  },
  {
   "cell_type": "code",
   "execution_count": 22,
   "metadata": {},
   "outputs": [
    {
     "name": "stdout",
     "output_type": "stream",
     "text": [
      "ici du code avant\n",
      "fonction qui a besoin d'un décorateur\n",
      "ici du code après\n"
     ]
    }
   ],
   "source": [
    "fonction_avec_decorateur()"
   ]
  },
  {
   "cell_type": "code",
   "execution_count": 23,
   "metadata": {},
   "outputs": [],
   "source": [
    "@nouveau_decorateur\n",
    "def autre_fonction():\n",
    "    print(\"celle ci aussi\")"
   ]
  },
  {
   "cell_type": "code",
   "execution_count": 24,
   "metadata": {},
   "outputs": [
    {
     "name": "stdout",
     "output_type": "stream",
     "text": [
      "ici du code avant\n",
      "celle ci aussi\n",
      "ici du code après\n"
     ]
    }
   ],
   "source": [
    "autre_fonction()"
   ]
  },
  {
   "cell_type": "code",
   "execution_count": null,
   "metadata": {},
   "outputs": [],
   "source": []
  }
 ],
 "metadata": {
  "anaconda-cloud": {},
  "kernelspec": {
   "display_name": "Python 3",
   "language": "python",
   "name": "python3"
  },
  "language_info": {
   "codemirror_mode": {
    "name": "ipython",
    "version": 3
   },
   "file_extension": ".py",
   "mimetype": "text/x-python",
   "name": "python",
   "nbconvert_exporter": "python",
   "pygments_lexer": "ipython3",
   "version": "3.6.4"
  }
 },
 "nbformat": 4,
 "nbformat_minor": 1
}
