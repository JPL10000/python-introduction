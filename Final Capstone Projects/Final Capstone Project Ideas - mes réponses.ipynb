{
 "cells": [
  {
   "cell_type": "markdown",
   "metadata": {},
   "source": [
    "# Trouver PI au Nième décimale \n",
    "Saisissez un nombre et faites en sorte que le programme génère PI jusqu'à plusieurs décimales. Pensez à donner une limite à ce que doit calculer le programme."
   ]
  },
  {
   "cell_type": "code",
   "execution_count": null,
   "metadata": {},
   "outputs": [],
   "source": [
    "import math\n",
    "\n",
    "while True :\n",
    "    dec = int(input(\"Choisissez le nombre de décimales (inférieure à 10) :\"))\n",
    "    if dec <= 10 :\n",
    "        break\n",
    "\n",
    "print(\"Voici le nombre pi avec %s décimales : %s \" % (dec, str(math.pi)[0:dec+2]))"
   ]
  },
  {
   "cell_type": "markdown",
   "metadata": {},
   "source": [
    "# Trouver e au Nième décimale\n",
    "Tout comme le problème précédent, mais avec e au lieu de PI. Entrez un nombre et faites en sorte que le programme génère e jusqu'à plusieurs décimales. Pensez à donner une limite à ce que doit calculer le programme."
   ]
  },
  {
   "cell_type": "code",
   "execution_count": null,
   "metadata": {},
   "outputs": [],
   "source": [
    "math.e"
   ]
  },
  {
   "cell_type": "code",
   "execution_count": null,
   "metadata": {},
   "outputs": [],
   "source": [
    "while True :\n",
    "    dec = int(input(\"Choisissez le nombre de décimales (inférieure à 10) :\"))\n",
    "    if dec <= 10 :\n",
    "        break\n",
    "\n",
    "print(\"Voici le nombre d'Euler avec %s décimales : %s \" % (dec, str(math.e)[0:dec+2]))"
   ]
  },
  {
   "cell_type": "markdown",
   "metadata": {},
   "source": [
    "# Séquence Fibonacci \n",
    "Entrez un nombre et faites en sorte que le programme génère la séquence Fibonacci à ce nombre ou au Nième nombre."
   ]
  },
  {
   "cell_type": "code",
   "execution_count": 1,
   "metadata": {},
   "outputs": [
    {
     "name": "stdout",
     "output_type": "stream",
     "text": [
      "Quelle est la taille de la séquence de Fibonacci que vous souhaitez obtenir ? (maximum : 20)4\n",
      "1\n",
      "1\n",
      "2\n",
      "3\n"
     ]
    }
   ],
   "source": [
    "def fibo(limite):\n",
    "    a = 1\n",
    "    b = 1\n",
    "    compteur = 0\n",
    "    while compteur < limite :\n",
    "        yield a\n",
    "        a, b = b, a+b\n",
    "        compteur += 1\n",
    "\n",
    "while True :\n",
    "    limite = int(input(\"Quelle est la taille de la séquence de Fibonacci que vous souhaitez obtenir ? (maximum : 20)\"))\n",
    "    if limite <= 20 :\n",
    "        break\n",
    "\n",
    "for x in fibo(limite):\n",
    "    print(x)"
   ]
  },
  {
   "cell_type": "markdown",
   "metadata": {},
   "source": [
    "# Factorisation de nombres premiers\n",
    "Demandez à l'utilisateur d'entrer un nombre que vous décomposerez en nombres premiers (s'il y en a) et afficherez."
   ]
  },
  {
   "cell_type": "code",
   "execution_count": 2,
   "metadata": {},
   "outputs": [],
   "source": [
    "def decompose (n): \n",
    "    print(\"%d = 1\"%(n), end=' ') \n",
    "    i=2 \n",
    "    while n>1: \n",
    "        while n%i==0: \n",
    "            print(\"x\",i, end=' ') \n",
    "            n=n/i \n",
    "        i = i+1 \n",
    "    print(\"\\n\") #saut de ligne "
   ]
  },
  {
   "cell_type": "code",
   "execution_count": 3,
   "metadata": {},
   "outputs": [
    {
     "name": "stdout",
     "output_type": "stream",
     "text": [
      "5632 = 1 x 2 x 2 x 2 x 2 x 2 x 2 x 2 x 2 x 2 x 11 \n",
      "\n"
     ]
    }
   ],
   "source": [
    "decompose (5632)"
   ]
  },
  {
   "cell_type": "code",
   "execution_count": 12,
   "metadata": {},
   "outputs": [],
   "source": [
    "def decompose (n): \n",
    "    print(\"%d = 1\"%(n), end=' ') \n",
    "    i=2 \n",
    "    while n>1: \n",
    "        puissance = 0\n",
    "        while n%i==0: \n",
    "            puissance += 1  \n",
    "            n=n/i \n",
    "        if puissance != 0 :\n",
    "            print(\"x\",i, \"**\",puissance)\n",
    "        i = i+1 "
   ]
  },
  {
   "cell_type": "code",
   "execution_count": 13,
   "metadata": {},
   "outputs": [
    {
     "name": "stdout",
     "output_type": "stream",
     "text": [
      "5632 = 1 x 2 ** 9\n",
      "x 11 ** 1\n"
     ]
    }
   ],
   "source": [
    "decompose(5632)"
   ]
  },
  {
   "cell_type": "markdown",
   "metadata": {},
   "source": [
    "# Liste des nombres premiers\n",
    "Demandez au programme de trouver les nombres premiers jusqu'à ce que l'utilisateur décide de cesser de demander le suivant."
   ]
  },
  {
   "cell_type": "code",
   "execution_count": null,
   "metadata": {},
   "outputs": [],
   "source": [
    "n = 1\n",
    "while True :\n",
    "    limite = input(\"Voulez-vous obtenir le nombre premier suivant ? (o/n)\")\n",
    "    if limite != \"o\" and limite != \"O\" :\n",
    "        break\n",
    "    else :\n",
    "        if n == 1 :\n",
    "            print(n)\n",
    "            n += 1\n",
    "            continue\n",
    "        elif n == 2 :\n",
    "            print(n)\n",
    "            n += 1\n",
    "            continue\n",
    "        else :\n",
    "            test = True\n",
    "            for d in range(2,n) :\n",
    "                if n % d == 0 :\n",
    "                    test = False\n",
    "                    n += 1\n",
    "                    continue\n",
    "                if test :\n",
    "                    print(n)\n",
    "                    n += 1\n",
    "                    continue\n",
    "            \n",
    "\n",
    "            "
   ]
  },
  {
   "cell_type": "code",
   "execution_count": null,
   "metadata": {},
   "outputs": [],
   "source": []
  }
 ],
 "metadata": {
  "anaconda-cloud": {},
  "kernelspec": {
   "display_name": "Python 3",
   "language": "python",
   "name": "python3"
  },
  "language_info": {
   "codemirror_mode": {
    "name": "ipython",
    "version": 3
   },
   "file_extension": ".py",
   "mimetype": "text/x-python",
   "name": "python",
   "nbconvert_exporter": "python",
   "pygments_lexer": "ipython3",
   "version": "3.6.4"
  }
 },
 "nbformat": 4,
 "nbformat_minor": 1
}
